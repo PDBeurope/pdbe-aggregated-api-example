{
 "cells": [
  {
   "cell_type": "markdown",
   "metadata": {},
   "source": [
    "# PDBe Aggregated API - A step-by-step example"
   ]
  },
  {
   "cell_type": "markdown",
   "metadata": {},
   "source": [
    "This Jupyter Notebook provides step-by-step instructions for querying the PDBe Aggregated API and retrieving information on predicted binding sites, macromolecular interaction interfaces and observed ligands for the protein Thrombin using Python3 programming language."
   ]
  },
  {
   "cell_type": "markdown",
   "metadata": {},
   "source": [
    "# Step 1 - Import necessary dependencies\n",
    "\n",
    "In order to query the API, import the `requests` library."
   ]
  },
  {
   "cell_type": "code",
   "execution_count": 13,
   "metadata": {},
   "outputs": [],
   "source": [
    "import requests"
   ]
  },
  {
   "cell_type": "markdown",
   "metadata": {},
   "source": [
    "# Step 2 - Choose a UniProt accession and the necessary API endpoints\n",
    "\n",
    "All the API endpoints have keys that the users must provide. For this example, we will use API endpoints that are keyed on a UniProt accession.\n",
    "\n",
    "The UniProt accession of Thrombin is \"P00734\".\n",
    "\n",
    "For this example, we are interested in functional annotations of Thrombin which are provided to PDBe-KB [1] by consortium partner resources such as P2rank [2] and canSAR [3]. We are also interested in all the macromolecular interaction interface residues of Thrombin, as calculated by the PDBe PISA service [4], and all the observed ligand binding sites, as calculated by Arpeggio [5].\n",
    "\n",
    "In order to retrieve this (and any other) information, users should study the documentation page of the PDBe Aggregated API:\n",
    "<a href=\"https://pdbe.org/graph-api\" target=\"_blank\">\n",
    "    \n",
    "We set the variables below for the UniProt accession of Thrombin, and the API endpoint URLs we will use."
   ]
  },
  {
   "cell_type": "code",
   "execution_count": 19,
   "metadata": {},
   "outputs": [],
   "source": [
    "ACCESSION = \"P00734\"\n",
    "ANNOTATIONS_URL = f\"https://www.ebi.ac.uk/pdbe/graph-api/uniprot/annotations/{ACCESSION}\"\n",
    "INTERACTIONS_URL = f\"https://www.ebi.ac.uk/pdbe/graph-api/uniprot/interface_residues/{ACCESSION}\"\n",
    "LIGANDS_URL = f\"https://www.ebi.ac.uk/pdbe/graph-api/uniprot/ligand_sites/{ACCESSION}\""
   ]
  },
  {
   "cell_type": "markdown",
   "metadata": {},
   "source": [
    "# Step 3 - Define helper functions\n",
    "\n",
    "We will define a few helper functions to avoid code repetition when retrieving data from the API."
   ]
  },
  {
   "cell_type": "code",
   "execution_count": 37,
   "metadata": {},
   "outputs": [],
   "source": [
    "def get_data(accession, url):\n",
    "    \"\"\"\n",
    "    Helper function to get the data from an API endpoint using an accession as key\n",
    "    \n",
    "    :param accession: String; a UniProt accession\n",
    "    :param url: String; a URL to an API endpoint\n",
    "    :return: Response object or None\n",
    "    \"\"\"\n",
    "\n",
    "    try:\n",
    "        return requests.get(url)\n",
    "    except Error as err:\n",
    "        print(\"There was an error while retrieving the data: %s\" % err)\n",
    "        \n",
    "def parse_data(data):\n",
    "    \"\"\"\n",
    "    Helper function to parse a response object as JSON\n",
    "    \n",
    "    :param data: Response object; data to be parsed\n",
    "    :return: JSON object or None\n",
    "    \"\"\"\n",
    "    \n",
    "    # Check if the status code is 200 and raise error if not\n",
    "    if data.status_code == 200:\n",
    "        return data.json()\n",
    "    else:\n",
    "        raise ValueError('No data received')"
   ]
  },
  {
   "cell_type": "markdown",
   "metadata": {},
   "source": [
    "# Step 4 - Get annotations data\n",
    "\n",
    "We will use the annotations API endpoint (defined as `ANNOTATIONS_URL`) to get the functional annotations for Thrombin (defined as `ACCESSION`)"
   ]
  },
  {
   "cell_type": "code",
   "execution_count": 38,
   "metadata": {},
   "outputs": [],
   "source": [
    "annotations_data = parse_data(get_data(ACCESSION, ANNOTATIONS_URL))"
   ]
  },
  {
   "cell_type": "markdown",
   "metadata": {},
   "source": [
    "We then filter the data for the predicted binding sites annotations provided by P2rank and canSAR."
   ]
  },
  {
   "cell_type": "code",
   "execution_count": 39,
   "metadata": {},
   "outputs": [],
   "source": [
    "all_predicted_ligand_binding_residues = list()\n",
    "\n",
    "for provider_data in annotations_data[ACCESSION][\"data\"]:\n",
    "    if provider_data[\"accession\"] in [\"p2rank\", \"cansar\"]:\n",
    "        residues = [x[\"startIndex\"] for x in provider_data[\"residues\"]]\n",
    "        all_predicted_ligand_binding_residues.extend(residues)"
   ]
  },
  {
   "cell_type": "markdown",
   "metadata": {},
   "source": [
    "These are the residues which are annotated as predicted ligand binding sites: "
   ]
  },
  {
   "cell_type": "code",
   "execution_count": 40,
   "metadata": {},
   "outputs": [
    {
     "name": "stdout",
     "output_type": "stream",
     "text": [
      "[136, 329, 330, 331, 332, 333, 334, 336, 372, 383, 386, 388, 389, 390, 391, 406, 407, 410, 413, 414, 415, 417, 434, 436, 459, 493, 506, 507, 511, 541, 549, 565, 566, 568, 589, 590, 591, 596, 597, 605]\n"
     ]
    }
   ],
   "source": [
    "print(all_predicted_ligand_binding_residues)"
   ]
  },
  {
   "cell_type": "markdown",
   "metadata": {},
   "source": [
    "# Step 5 - Get interaction interfaces data\n",
    "\n",
    "We will use the interaction interfaces API endpoint (defined as `INTERACTIONS_URL`) to get all the macromolecular interaction interface residues of Thrombin (defined as `ACCESSION`)"
   ]
  },
  {
   "cell_type": "code",
   "execution_count": 41,
   "metadata": {},
   "outputs": [],
   "source": [
    "interactions_data = parse_data(get_data(ACCESSION, INTERACTIONS_URL))"
   ]
  },
  {
   "cell_type": "markdown",
   "metadata": {},
   "source": [
    "We then list the macromolecular interaction partners of Thrombin:"
   ]
  },
  {
   "cell_type": "code",
   "execution_count": 43,
   "metadata": {},
   "outputs": [
    {
     "name": "stdout",
     "output_type": "stream",
     "text": [
      "['Prothrombin', 'Hirudin variant-1', 'Other', 'Hirudin variant-2 (Fragment)', 'Hirudin-2', 'Salivary anti-thrombin peptide anophelin', 'DNA', 'Thrombomodulin', 'Heparin cofactor 2', 'Thrombin inhibitor madanin 1', 'Staphylocoagulase (Fragment)', 'Thrombininhibitor', 'AGAP008004-PA', 'Pancreatic trypsin inhibitor', 'Antithrombin-III', 'Proteinase-activated receptor 1', 'Uncharacterized protein avahiru', 'RNA', 'Fibrinogen alpha chain', 'Glia-derived nexin', 'HIRUDIN ANALOGUE', 'Hirudin-2B', 'Variegin', 'Proteinase-activated receptor 4', 'Plasma serine protease inhibitor', 'Hirudin-3A', 'Vitamin K-dependent protein C', 'Platelet glycoprotein Ib alpha chain', 'Hirullin-P18', 'N-acetylated chloromethylated fibrinopeptide A', 'CYCLOTHEONAMIDE A', 'BIVALIRUDIN C-terminus fragment', 'Coagulation factor V', \"Hirudin-3B'\", 'Kininogen-1', 'Hirudin-PA', \"Hirudin-3A'\", 'Hirudin-3', 'BIVALIRUDIN N-terminus fragment', 'Hirudin-2A', \"N-terminal Asp des-amino Hirudin-3A'\", 'Thrombostatin FM inhibitor [rOicPaF(p-Me)]', 'AERUGINOSIN 298-A']\n"
     ]
    }
   ],
   "source": [
    "interaction_partner_names = list()\n",
    "for item in interactions_data[ACCESSION][\"data\"]:\n",
    "    interaction_partner_names.append(item[\"name\"])\n",
    "print(interaction_partner_names)"
   ]
  },
  {
   "cell_type": "markdown",
   "metadata": {},
   "source": [
    "We can see it has many interaction partners, and several of them are variants of Hirudin, a natural inhibitor of Thrombin. We will use `Hirudin variant-1` for the next steps of this example."
   ]
  },
  {
   "cell_type": "markdown",
   "metadata": {},
   "source": [
    "# Step 6 - Compare the interaction interface residues between Thrombin and Hirudin (variant-1)\n",
    "\n",
    "We compare the predicted ligand binding site residues with the interaction interface residues of Thrombin that interact with Hirudin (variant 1)"
   ]
  },
  {
   "cell_type": "code",
   "execution_count": 48,
   "metadata": {},
   "outputs": [],
   "source": [
    "interface_residues_with_hirudin = list()\n",
    "\n",
    "for item in interactions_data[accession][\"data\"]:\n",
    "    if item[\"name\"] == \"Hirudin variant-1\":\n",
    "        interacting_residues = [x[\"startIndex\"] for x in item[\"residues\"] if x[\"startIndex\"] in all_ligand_binding_residues]\n",
    "        interface_residues_with_hirudin.extend(interacting_residues)"
   ]
  },
  {
   "cell_type": "markdown",
   "metadata": {},
   "source": [
    "We can see that there are 9 residues found in the region between GLU388 and GLY591 which both interact with Hirudin and are predicted to bind small molecules:"
   ]
  },
  {
   "cell_type": "code",
   "execution_count": 55,
   "metadata": {},
   "outputs": [
    {
     "name": "stdout",
     "output_type": "stream",
     "text": [
      "[388, 406, 434, 541, 565, 566, 568, 589, 591]\n"
     ]
    }
   ],
   "source": [
    "print(interface_residues_with_hirudin)"
   ]
  },
  {
   "cell_type": "markdown",
   "metadata": {},
   "source": [
    "### Summary of the results so far\n",
    "\n",
    "Using the PDBe Aggregated API we could retrieve all the residues of Thrombin which are predicted to bind small molecules. We then retrieved the data on macromolecular interactions between Thrombin and other proteins/peptides. We could see that Thrombin interacts with several variants of Hirudin.\n",
    "\n",
    "Next, we compared the predicted ligand binding sites with the interaction interface residues and saw that there is a region on the sequence of Thrombin where several potential target residues can be found."
   ]
  },
  {
   "cell_type": "markdown",
   "metadata": {},
   "source": [
    "# Step 7 - Retrieving observed ligand binding sites\n",
    "\n",
    "Next, we retrieve all the binding sites using the ligand sites API endpoint (defined as `LIGANDS_URL`) to get all the ligand binding residues of Thrombin (defined as `ACCESSION`)"
   ]
  },
  {
   "cell_type": "code",
   "execution_count": 51,
   "metadata": {},
   "outputs": [],
   "source": [
    "ligands_data = parse_data(get_data(ACCESSION, LIGANDS_URL))"
   ]
  },
  {
   "cell_type": "code",
   "execution_count": 67,
   "metadata": {},
   "outputs": [],
   "source": [
    "ligand_list = list()\n",
    "\n",
    "for ligand in ligands_data[accession][\"data\"]:\n",
    "    for residue in ligand[\"residues\"]:\n",
    "        if residue[\"startIndex\"] in interface_residues_with_hirudin:\n",
    "            ligand_list.append(ligand[\"accession\"])\n",
    "            break"
   ]
  },
  {
   "cell_type": "markdown",
   "metadata": {},
   "source": [
    "Finally, we compare the ligands found in the PDB with the annotations and interaction interfaces we have collated in the previous steps, and we find that indeed there are many small molecules, such as TYS, MRD, P6G that interact with the Thrombin residues which form the macromolecular interaction interface with Hirudin (variant-1)."
   ]
  },
  {
   "cell_type": "code",
   "execution_count": 69,
   "metadata": {},
   "outputs": [
    {
     "name": "stdout",
     "output_type": "stream",
     "text": [
      "281\n"
     ]
    }
   ],
   "source": [
    "print(\"There are %i ligands observed in PDB that bind to this \" % len(ligand_list))"
   ]
  },
  {
   "cell_type": "markdown",
   "metadata": {},
   "source": [
    "## References\n",
    "\n",
    "* [1] PDBe-KB: PDBe-KB consortium (2020). PDBe-KB a community-driven resource for structural and functional annotations. Nucleic Acids Res, 48(D1), D344-D353. doi:10.1093/nar/gkz853\n",
    "* [2] P2rank\n",
    "* [3] canSAR: Coker, E. A., Mitsopoulos, C., Tym, J. E., Komianou, A., Kannas, C., Di Micco, P., . . . Al-Lazikani, B. (2019). canSAR: update to the cancer translational research and drug discovery knowledgebase. Nucleic Acids Res, 47(D1), D917-D922. doi:10.1093/nar/gky1129\n",
    "* [4] PISA\n",
    "* [5]  Arpeggio: A Web Server for Calculating and Visualising Interatomic Interactions in Protein Structures"
   ]
  }
 ],
 "metadata": {
  "kernelspec": {
   "display_name": "Python 3",
   "language": "python",
   "name": "python3"
  },
  "language_info": {
   "codemirror_mode": {
    "name": "ipython",
    "version": 3
   },
   "file_extension": ".py",
   "mimetype": "text/x-python",
   "name": "python",
   "nbconvert_exporter": "python",
   "pygments_lexer": "ipython3",
   "version": "3.6.3"
  }
 },
 "nbformat": 4,
 "nbformat_minor": 2
}

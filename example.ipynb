{
 "cells": [
  {
   "cell_type": "markdown",
   "metadata": {},
   "source": [
    "# PDBe Aggregated API - A step-by-step example"
   ]
  },
  {
   "cell_type": "markdown",
   "metadata": {},
   "source": [
    "This Jupyter Notebook provides step-by-step instructions for querying the PDBe Aggregated API and retrieving information on predicted binding sites, macromolecular interaction interfaces and observed ligands for the protein Thrombin using Python3 programming language."
   ]
  },
  {
   "cell_type": "markdown",
   "metadata": {},
   "source": [
    "# Step 1 - Import necessary dependencies\n",
    "\n",
    "In order to query the API, import the `requests` library."
   ]
  },
  {
   "cell_type": "code",
   "execution_count": 1,
   "metadata": {},
   "outputs": [],
   "source": [
    "import requests"
   ]
  },
  {
   "cell_type": "markdown",
   "metadata": {},
   "source": [
    "# Step 2 - Choose a UniProt accession and the necessary API endpoints\n",
    "\n",
    "All the API endpoints have keys that the users must provide. For this example, we will use API endpoints that are keyed on a UniProt accession.\n",
    "\n",
    "The UniProt accession of Thrombin is \"P00734\".\n",
    "\n",
    "For this example, we are interested in functional annotations of Thrombin which are provided to PDBe-KB [1] by consortium partner resources such as P2rank [2] and canSAR [3]. We are also interested in all the macromolecular interaction interface residues of Thrombin, as calculated by the PDBe PISA service [4], and all the observed ligand binding sites, as calculated by Arpeggio [5].\n",
    "\n",
    "In order to retrieve this (and any other) information, users should study the documentation page of the PDBe Aggregated API:\n",
    "<a href=\"https://pdbe.org/graph-api\" target=\"_blank\">\n",
    "    \n",
    "We set the variables below for the UniProt accession of Thrombin, and the API endpoint URLs we will use."
   ]
  },
  {
   "cell_type": "code",
   "execution_count": 2,
   "metadata": {},
   "outputs": [],
   "source": [
    "ACCESSION = \"P00734\"\n",
    "ANNOTATIONS_URL = f\"https://www.ebi.ac.uk/pdbe/graph-api/uniprot/annotations/{ACCESSION}\"\n",
    "INTERACTIONS_URL = f\"https://www.ebi.ac.uk/pdbe/graph-api/uniprot/interface_residues/{ACCESSION}\"\n",
    "LIGANDS_URL = f\"https://www.ebi.ac.uk/pdbe/graph-api/uniprot/ligand_sites/{ACCESSION}\""
   ]
  },
  {
   "cell_type": "markdown",
   "metadata": {},
   "source": [
    "# Step 3 - Define helper functions\n",
    "\n",
    "We will define a few helper functions to avoid code repetition when retrieving data from the API."
   ]
  },
  {
   "cell_type": "code",
   "execution_count": 3,
   "metadata": {},
   "outputs": [],
   "source": [
    "def get_data(accession, url):\n",
    "    \"\"\"\n",
    "    Helper function to get the data from an API endpoint using an accession as key\n",
    "    \n",
    "    :param accession: String; a UniProt accession\n",
    "    :param url: String; a URL to an API endpoint\n",
    "    :return: Response object or None\n",
    "    \"\"\"\n",
    "\n",
    "    try:\n",
    "        return requests.get(url)\n",
    "    except Error as err:\n",
    "        print(\"There was an error while retrieving the data: %s\" % err)\n",
    "        \n",
    "def parse_data(data):\n",
    "    \"\"\"\n",
    "    Helper function to parse a response object as JSON\n",
    "    \n",
    "    :param data: Response object; data to be parsed\n",
    "    :return: JSON object or None\n",
    "    \"\"\"\n",
    "    \n",
    "    # Check if the status code is 200 and raise error if not\n",
    "    if data.status_code == 200:\n",
    "        return data.json()\n",
    "    else:\n",
    "        raise ValueError('No data received')"
   ]
  },
  {
   "cell_type": "markdown",
   "metadata": {},
   "source": [
    "# Step 4 - Get annotations data\n",
    "\n",
    "We will use the annotations API endpoint (defined as `ANNOTATIONS_URL`) to get the functional annotations for Thrombin (defined as `ACCESSION`)"
   ]
  },
  {
   "cell_type": "code",
   "execution_count": 4,
   "metadata": {},
   "outputs": [],
   "source": [
    "annotations_data = parse_data(get_data(ACCESSION, ANNOTATIONS_URL))"
   ]
  },
  {
   "cell_type": "markdown",
   "metadata": {},
   "source": [
    "We then filter the data for the predicted binding sites annotations provided by P2rank and canSAR."
   ]
  },
  {
   "cell_type": "code",
   "execution_count": 5,
   "metadata": {},
   "outputs": [],
   "source": [
    "all_predicted_ligand_binding_residues = list()\n",
    "\n",
    "for provider_data in annotations_data[ACCESSION][\"data\"]:\n",
    "    if provider_data[\"accession\"] in [\"p2rank\", \"cansar\"]:\n",
    "        residues = [x[\"startIndex\"] for x in provider_data[\"residues\"]]\n",
    "        all_predicted_ligand_binding_residues.extend(residues)"
   ]
  },
  {
   "cell_type": "markdown",
   "metadata": {},
   "source": [
    "These are the residues which are annotated as predicted ligand binding sites: "
   ]
  },
  {
   "cell_type": "code",
   "execution_count": 6,
   "metadata": {},
   "outputs": [
    {
     "name": "stdout",
     "output_type": "stream",
     "text": [
      "[136, 237, 246, 251, 265, 273, 324, 329, 330, 331, 332, 333, 334, 336, 372, 383, 386, 388, 389, 390, 391, 396, 400, 406, 407, 410, 413, 414, 415, 417, 434, 436, 459, 493, 506, 507, 510, 511, 530, 541, 549, 565, 566, 568, 572, 574, 585, 589, 590, 591, 596, 597, 605, 613, 615, 617]\n"
     ]
    }
   ],
   "source": [
    "print(all_predicted_ligand_binding_residues)"
   ]
  },
  {
   "cell_type": "markdown",
   "metadata": {},
   "source": [
    "# Step 5 - Get interaction interfaces data\n",
    "\n",
    "We will use the interaction interfaces API endpoint (defined as `INTERACTIONS_URL`) to get all the macromolecular interaction interface residues of Thrombin (defined as `ACCESSION`)"
   ]
  },
  {
   "cell_type": "code",
   "execution_count": 7,
   "metadata": {},
   "outputs": [],
   "source": [
    "interactions_data = parse_data(get_data(ACCESSION, INTERACTIONS_URL))"
   ]
  },
  {
   "cell_type": "markdown",
   "metadata": {},
   "source": [
    "We then list the macromolecular interaction partners of Thrombin:"
   ]
  },
  {
   "cell_type": "code",
   "execution_count": 8,
   "metadata": {},
   "outputs": [
    {
     "name": "stdout",
     "output_type": "stream",
     "text": [
      "['Prothrombin', 'Hirudin variant-1', 'Proteinase-activated receptor 1', 'Other', 'DNA', 'Tsetse thrombin inhibitor', 'Hirudin variant-2 (Fragment)', 'Hirudin-2', 'Salivary anti-thrombin peptide anophelin', 'Thrombomodulin', 'Heparin cofactor 2', 'Thrombin inhibitor madanin 1', 'Antithrombin-III', 'Staphylocoagulase (Fragment)', 'Thrombininhibitor', 'AGAP008004-PA', 'Pancreatic trypsin inhibitor', 'Uncharacterized protein avahiru', 'RNA', 'Fibrinogen alpha chain', 'Glia-derived nexin', 'Fibrinogen gamma chain', 'Hirudin-2B', 'Variegin', 'Proteinase-activated receptor 4', 'Plasma serine protease inhibitor', 'Hirudin-3A', 'Vitamin K-dependent protein C', 'Platelet glycoprotein Ib alpha chain', 'Hirullin-P18', 'BIVALIRUDIN C-terminus fragment', 'Coagulation factor V', \"Hirudin-2'\", \"Hirudin-3B'\", 'D-phenylalanyl-L-prolyl-N~5~-[amino(iminio)methyl]-D-ornithyl-L-cysteinamide', 'Kininogen-1', 'D-phenylalanyl-L-prolyl-N~5~-[amino(iminio)methyl]-D-ornithyl-D-threoninamide', 'Hirudin-PA', \"Hirudin-3A'\", 'Hirudin-3', 'D-phenylalanyl-L-prolyl-N~5~-[amino(iminio)methyl]-D-ornithyl-L-isoleucinamide', 'BIVALIRUDIN N-terminus fragment', 'Hirudin-2A', 'AERUGINOSIN 298-A']\n"
     ]
    }
   ],
   "source": [
    "interaction_partner_names = list()\n",
    "for item in interactions_data[ACCESSION][\"data\"]:\n",
    "    interaction_partner_names.append(item[\"name\"])\n",
    "print(interaction_partner_names)"
   ]
  },
  {
   "cell_type": "markdown",
   "metadata": {},
   "source": [
    "We can see it has many interaction partners, and several of them are variants of Hirudin, a natural inhibitor of Thrombin. We will use `Hirudin variant-1` for the next steps of this example."
   ]
  },
  {
   "cell_type": "markdown",
   "metadata": {},
   "source": [
    "# Step 6 - Compare the interaction interface residues between Thrombin and Hirudin (variant-1)\n",
    "\n",
    "We compare the predicted ligand binding site residues with the interaction interface residues of Thrombin that interact with Hirudin (variant 1)"
   ]
  },
  {
   "cell_type": "code",
   "execution_count": 9,
   "metadata": {},
   "outputs": [],
   "source": [
    "interface_residues_with_hirudin = list()\n",
    "\n",
    "for item in interactions_data[ACCESSION][\"data\"]:\n",
    "    if item[\"name\"] == \"Hirudin variant-1\":\n",
    "        interacting_residues = [x[\"startIndex\"] for x in item[\"residues\"] if x[\"startIndex\"] in all_predicted_ligand_binding_residues]\n",
    "        interface_residues_with_hirudin.extend(interacting_residues)"
   ]
  },
  {
   "cell_type": "markdown",
   "metadata": {},
   "source": [
    "We can see that there are 9 residues found in the region between GLU388 and GLY591 which both interact with Hirudin and are predicted to bind small molecules:"
   ]
  },
  {
   "cell_type": "code",
   "execution_count": 10,
   "metadata": {},
   "outputs": [
    {
     "name": "stdout",
     "output_type": "stream",
     "text": [
      "[388, 406, 434, 541, 565, 566, 568, 589, 591]\n"
     ]
    }
   ],
   "source": [
    "print(interface_residues_with_hirudin)"
   ]
  },
  {
   "cell_type": "markdown",
   "metadata": {},
   "source": [
    "### Summary of the results so far\n",
    "\n",
    "Using the PDBe Aggregated API we could retrieve all the residues of Thrombin which are predicted to bind small molecules. We then retrieved the data on macromolecular interactions between Thrombin and other proteins/peptides. We could see that Thrombin interacts with several variants of Hirudin.\n",
    "\n",
    "Next, we compared the predicted ligand binding sites with the interaction interface residues and saw that there is a region on the sequence of Thrombin where several potential target residues can be found."
   ]
  },
  {
   "cell_type": "markdown",
   "metadata": {},
   "source": [
    "# Step 7 - Retrieving observed ligand binding sites\n",
    "\n",
    "Next, we retrieve all the binding sites using the ligand sites API endpoint (defined as `LIGANDS_URL`) to get all the ligand binding residues of Thrombin (defined as `ACCESSION`)"
   ]
  },
  {
   "cell_type": "code",
   "execution_count": 11,
   "metadata": {},
   "outputs": [],
   "source": [
    "ligands_data = parse_data(get_data(ACCESSION, LIGANDS_URL))"
   ]
  },
  {
   "cell_type": "code",
   "execution_count": 12,
   "metadata": {},
   "outputs": [],
   "source": [
    "ligand_list = list()\n",
    "\n",
    "for ligand in ligands_data[ACCESSION][\"data\"]:\n",
    "    for residue in ligand[\"residues\"]:\n",
    "        if residue[\"startIndex\"] in interface_residues_with_hirudin:\n",
    "            ligand_list.append(ligand[\"accession\"])\n",
    "            break"
   ]
  },
  {
   "cell_type": "markdown",
   "metadata": {},
   "source": [
    "Finally, we compare the ligands found in the PDB with the annotations and interaction interfaces we have collated in the previous steps, and we find that indeed there are many small molecules, such as TYS, MRD, P6G that interact with the Thrombin residues which form the macromolecular interaction interface with Hirudin (variant-1)."
   ]
  },
  {
   "cell_type": "code",
   "execution_count": 13,
   "metadata": {},
   "outputs": [
    {
     "name": "stdout",
     "output_type": "stream",
     "text": [
      "There are 279 ligands observed in PDB that bind to this \n"
     ]
    }
   ],
   "source": [
    "print(\"There are %i ligands observed in PDB that bind to this \" % len(ligand_list))"
   ]
  },
  {
   "cell_type": "code",
   "execution_count": 14,
   "metadata": {},
   "outputs": [
    {
     "name": "stdout",
     "output_type": "stream",
     "text": [
      "These are the Chemical Componant identifiers of the ligands:\n",
      "['8K2', 'FQI', 'TYS', 'DPN', '71F', 'BAM', 'WCE', 'HBD', 'OJK', 'DKQ', '02N', 'Y4L', 'SZ4', 'C2A', 'ABN', 'APA', 'BEN', 'ESI', 'PRL', 'BT3', 'BT2', 'BZT', 'C2D', 'BAI', 'BAH', 'BAB', '897', '896', '501', '4ND', 'R11', 'DKK', 'I26', 'I25', 'I50', 'C1M', '382', 'L03', '121', 'BMZ', '130', '696', '132', '166', '167', 'GR1', 'L02', 'CR9', 'D6Y', 'NLI', '120', '81A', 'C02', 'C7M', 'C5M', 'C4M', 'C3M', 'UIR', 'UIB', 'F25', 'ESH', '348', 'UIP', 'FSN', 'SHY', 'R56', '0IT', 'L86', 'T76', '1ZV', 'MRQ', 'ODB', 'G44', 'QQW', 'QQE', 'N6H', 'QQK', 'QQT', 'QQ5', 'QQN', 'BT1', 'BPP', 'T42', 'MUQ', '0NW', 'GR4', 'ALZ', 'SJR', 'C24', '165', '2OJ', '2FN', '00R', 'IH3', 'MUZ', 'GAH', 'T19', 'PHW', 'PHV', '34P', 'P05', 'GOZ', 'M6Q', 'LXW', 'MJK', '3SP', 'O5Z', 'J5K', '99P', 'P97', 'CDO', 'B03', 'B01', 'MM9', 'M6S', 'M4Z', 'MVF', 'MEL', 'M67', '45S', 'S49', 'S00', 'S04', '46U', '45U', 'KDQ', 'M32', 'EU5', 'BJA', 'S28', 'M41', 'M34', 'WX5', 'TIF', 'S29', 'M31', '2TS', 'S54', '13U', '12U', '11U', '10U', '53U', '51U', 'K73', '37U', '22U', '27U', 'N6L', '32U', 'MD8', '64U', '6OV', '6TH', '50U', '91U', '71U', '49U', '177', '176', '23U', '33U', '062', '16U', '24U', '19U', '26U', '21U', '31U', '29U', '02P', 'B04', '163', '10P', '98P', '162', '06P', '6XS', '7R9', 'QPW', '9MU', 'BM9', '00N', '0ZE', '00Q', 'MJH', 'MDL', 'PPX', 'SN3', 'BLI', 'J3I', '0BM', '110', 'MIN', 'IH1', '00P', 'IH2', 'RA4', '14A', 'CDA', '170', 'CDD', 'T15', 'CDB', 'M18', 'UNB', 'L17', '1TS', 'S33', '9MQ', 'N5N', '9MX', '4CP', '2CE', 'CCR', 'MIU', '0ZI', 'MIT', '15U', 'MID', 'BM2', 'RA8', 'I11', '1Z0', '6V2', 'UET', '3ZD', 'D6J', '894', '701', '895', '5CB', '0IV', '0KV', 'OSC', '0E7', 'AZL', 'T16', 'DFK', 'DI2', '0ZJ', 'T29', 'DP7', 'DI5', 'DI4', '0G7', 'DI3', '0G6', 'QWE', '00L', '00K', 'NA9', 'N12', 'IGN', '44U', 'MKY', 'T87', 'MRZ', 'PRO', '157', 'F05', 'C1D', 'GR3', 'GOL', 'P6G', 'TFA', 'DFP', 'RB', 'IN2', 'ACY', '0GJ', 'IOD', 'ZN', 'CL', 'EDO', 'MPD', 'PO4', 'DMS', 'SO4']\n"
     ]
    }
   ],
   "source": [
    "print(\"These are the Chemical Componant identifiers of the ligands:\")\n",
    "print(ligand_list)"
   ]
  },
  {
   "cell_type": "markdown",
   "metadata": {},
   "source": [
    "## References\n",
    "\n",
    "* [1] PDBe-KB: PDBe-KB consortium (2020). PDBe-KB a community-driven resource for structural and functional annotations. Nucleic Acids Res, 48(D1), D344-D353. doi:10.1093/nar/gkz853\n",
    "* [2] Krivák, R., & Hoksza, D. (2018). P2Rank: machine learning based tool for rapid and accurate prediction of ligand binding sites from protein structure. J Cheminform. 2018 Aug 14;10(1):39. doi:10.1186/s13321-018-0285-8\n",
    "* [3] canSAR: Coker, E. A. et al. (2019). canSAR: update to the cancer translational research and drug discovery knowledgebase. Nucleic Acids Res, 47(D1), D917-D922. doi:10.1093/nar/gky1129\n",
    "* [4] Krissinel, E., & Henrick, K. (2007). Inference of macromolecular assemblies from crystalline state. J Mol Biol, 372(3), 774-797. doi:10.1016/j.jmb.2007.05.022\n",
    "* [5] Jubb, H. C. et al. (2017). Arpeggio: A Web Server for Calculating and Visualising Interatomic Interactions in Protein Structures. J Mol Biol. 2017 Feb 3;429(3):365-371. doi:10.1016/j.jmb.2016.12.004"
   ]
  }
 ],
 "metadata": {
  "kernelspec": {
   "display_name": "Python 3",
   "language": "python",
   "name": "python3"
  },
  "language_info": {
   "codemirror_mode": {
    "name": "ipython",
    "version": 3
   },
   "file_extension": ".py",
   "mimetype": "text/x-python",
   "name": "python",
   "nbconvert_exporter": "python",
   "pygments_lexer": "ipython3",
   "version": "3.6.3"
  }
 },
 "nbformat": 4,
 "nbformat_minor": 2
}

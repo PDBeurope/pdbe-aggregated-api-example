{
 "cells": [
  {
   "cell_type": "markdown",
   "metadata": {},
   "source": [
    "# PDBe Aggregated API - A step-by-step example"
   ]
  },
  {
   "cell_type": "markdown",
   "metadata": {},
   "source": [
    "This Jupyter Notebook provides step-by-step instructions for querying the PDBe Aggregated API and retrieving information on predicted binding sites, macromolecular interaction interfaces and observed ligands for the protein Thrombin using Python3 programming language."
   ]
  },
  {
   "cell_type": "markdown",
   "metadata": {},
   "source": [
    "# Step 1 - Import necessary dependencies\n",
    "\n",
    "In order to query the API, import the `requests` library."
   ]
  },
  {
   "cell_type": "code",
   "execution_count": 13,
   "metadata": {},
   "outputs": [],
   "source": [
    "import requests"
   ]
  },
  {
   "cell_type": "markdown",
   "metadata": {},
   "source": [
    "# Step 2 - Choose a UniProt accession and the necessary API endpoints\n",
    "\n",
    "All the API endpoints have keys that the users must provide. For this example, we will use API endpoints that are keyed on a UniProt accession.\n",
    "\n",
    "The UniProt accession of Thrombin is \"P00734\".\n",
    "\n",
    "For this example, we are interested in functional annotations of Thrombin which are provided to PDBe-KB [1] by consortium partner resources such as 3D-LigandSite [2] and canSAR [3]. We are also interested in all the macromolecular interaction interface residues of Thrombin, as calculated by the PDBe PISA service [4], and all the observed ligand binding sites, as calculated by Arpeggio [5].\n",
    "\n",
    "In order to retrieve this (and any other) information, users should study the documentation page of the PDBe Aggregated API:\n",
    "<a href=\"https://pdbe.org/graph-api\" target=\"_blank\">\n",
    "    \n",
    "We set the variables below for the UniProt accession of Thrombin, and the API endpoint URLs we will use."
   ]
  },
  {
   "cell_type": "code",
   "execution_count": 14,
   "metadata": {},
   "outputs": [],
   "source": [
    "ACCESSION = \"P00734\"\n",
    "ANNOTATIONS_URL = f\"https://www.ebi.ac.uk/pdbe/graph-api/uniprot/annotations/{ACCESSION}\"\n",
    "INTERACTIONS_URL = f\"https://www.ebi.ac.uk/pdbe/graph-api/uniprot/interface_residues/{ACCESSION}\"\n",
    "LIGANDS_URL = f\"https://www.ebi.ac.uk/pdbe/graph-api/uniprot/ligand_sites/{ACCESSION}\""
   ]
  },
  {
   "cell_type": "code",
   "execution_count": 16,
   "metadata": {},
   "outputs": [
    {
     "name": "stdout",
     "output_type": "stream",
     "text": [
      "<Response [403]>\n"
     ]
    }
   ],
   "source": [
    "print(annotations_data)"
   ]
  },
  {
   "cell_type": "markdown",
   "metadata": {},
   "source": [
    "# Step 3 - Define helper functions\n",
    "\n",
    "We will define a few helper functions to avoid code repetition when retrieving data from the API."
   ]
  },
  {
   "cell_type": "code",
   "execution_count": 17,
   "metadata": {},
   "outputs": [],
   "source": [
    "def get_data(accession, url):\n",
    "    \"\"\"\n",
    "    Helper function to get the data from an API endpoint using an accession as key\n",
    "    \n",
    "    :param accession: String; a UniProt accession\n",
    "    :param url: String; a URL to an API endpoint\n",
    "    :return: Response object or None\n",
    "    \"\"\"\n",
    "\n",
    "    try:\n",
    "        return requests.get(annotations_url)\n",
    "    except Error as err:\n",
    "        print(\"There was an error while retrieving the data: %s\" % err)\n",
    "        \n",
    "def parse_data(data):\n",
    "    \"\"\"\n",
    "    Helper function to parse a response object as JSON\n",
    "    \n",
    "    :param data: Response object; data to be parsed\n",
    "    :return: JSON object or None\n",
    "    \"\"\"\n",
    "    \n",
    "    # Check if the status code is 200 and raise error if not\n",
    "    if data.status_code == 200:\n",
    "        return data.json()\n",
    "    else:\n",
    "        raise ValueError('No data received')"
   ]
  },
  {
   "cell_type": "code",
   "execution_count": null,
   "metadata": {},
   "outputs": [],
   "source": []
  },
  {
   "cell_type": "code",
   "execution_count": null,
   "metadata": {},
   "outputs": [],
   "source": []
  },
  {
   "cell_type": "markdown",
   "metadata": {},
   "source": [
    "## References\n",
    "\n",
    "[1] PDBe-KB\n",
    "[2] 3D-LigandSite\n",
    "[3] canSAR\n",
    "[4] PISA\n",
    "[5] Arpeggio"
   ]
  }
 ],
 "metadata": {
  "kernelspec": {
   "display_name": "Python 3",
   "language": "python",
   "name": "python3"
  },
  "language_info": {
   "codemirror_mode": {
    "name": "ipython",
    "version": 3
   },
   "file_extension": ".py",
   "mimetype": "text/x-python",
   "name": "python",
   "nbconvert_exporter": "python",
   "pygments_lexer": "ipython3",
   "version": "3.6.3"
  }
 },
 "nbformat": 4,
 "nbformat_minor": 2
}
